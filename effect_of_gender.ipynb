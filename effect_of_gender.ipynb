{
 "cells": [
  {
   "cell_type": "code",
   "execution_count": 1,
   "metadata": {
    "collapsed": true
   },
   "outputs": [],
   "source": [
    "import pandas as pd\n",
    "from pandas import Series, DataFrame\n",
    "import numpy as np\n",
    "import matplotlib as mpl\n",
    "import matplotlib.pyplot as plt\n",
    "from scipy.stats import pearsonr\n",
    "import scipy.stats\n",
    "\n",
    "import statsmodels.api as sm\n",
    "\n",
    "\n",
    "%matplotlib inline\n",
    "\n",
    "plt.rc('axes', labelsize=20) \n",
    "plt.rcParams[\"figure.figsize\"] = (10,10)\n",
    "plt.rc('xtick', labelsize=13)\n",
    "plt.rc('ytick', labelsize=13) \n",
    "mpl.rcParams['axes.titlesize'] = 24"
   ]
  },
  {
   "cell_type": "code",
   "execution_count": 54,
   "metadata": {
    "collapsed": true
   },
   "outputs": [],
   "source": [
    "election_results = pd.read_csv('data/processed_data/elections_camaras_municipais_portugal.csv')"
   ]
  },
  {
   "cell_type": "code",
   "execution_count": 55,
   "metadata": {
    "collapsed": true
   },
   "outputs": [],
   "source": [
    "# Add column indicating if candidate is winner\n",
    "winners_indexes = []\n",
    "for i, concelho_year in election_results[['concelho', 'year']].drop_duplicates().iterrows():\n",
    "    # Index of the candidate with most votes of this concelho\n",
    "    index_winner = election_results[\n",
    "        (election_results.concelho == concelho_year.concelho) & \n",
    "        (election_results.year == concelho_year.year)\n",
    "    ].votes.argmax()\n",
    "    assert index_winner not in winners_indexes\n",
    "    winners_indexes.append(index_winner)\n",
    "    \n",
    "\n",
    "election_results['winner'] = election_results.apply(lambda candidate: candidate.name in winners_indexes, 1)"
   ]
  },
  {
   "cell_type": "code",
   "execution_count": 39,
   "metadata": {},
   "outputs": [],
   "source": [
    "def percentage_of_gender_candidates(gender, year, election_results):\n",
    "    election_results_year = election_results[election_results.year == year]\n",
    "\n",
    "    counts_gender_year = election_results_year.gender.value_counts()\n",
    "    return counts_gender_year[gender] / float(sum(counts_gender_year)) * 100"
   ]
  },
  {
   "cell_type": "code",
   "execution_count": 40,
   "metadata": {},
   "outputs": [
    {
     "name": "stdout",
     "output_type": "stream",
     "text": [
      "% of Woman Candidates (2009)\n",
      "12.8690386071\n",
      "\n",
      "% of Woman Candidates (2013)\n",
      "13.6397331357\n"
     ]
    }
   ],
   "source": [
    "print '% of Woman Candidates (2009)'\n",
    "print percentage_of_gender_candidates('female', 2009, election_results)\n",
    "print\n",
    "print '% of Woman Candidates (2013)'\n",
    "print percentage_of_gender_candidates('female', 2013, election_results)"
   ]
  },
  {
   "cell_type": "code",
   "execution_count": 41,
   "metadata": {
    "collapsed": true
   },
   "outputs": [],
   "source": [
    "def percentage_of_gender_winners(gender, year, election_results):\n",
    "    election_winners_year = election_results[(election_results.year == year) & (election_results.winner)]\n",
    "    counts_gender_year = election_winners_year.gender.value_counts()\n",
    "    return counts_gender_year[gender] / float(sum(counts_gender_year)) * 100"
   ]
  },
  {
   "cell_type": "code",
   "execution_count": 106,
   "metadata": {},
   "outputs": [
    {
     "name": "stdout",
     "output_type": "stream",
     "text": [
      "% of Woman Winners (2009)\n",
      "7.46753246753\n",
      "\n",
      "% of Woman Winners (2013)\n",
      "7.46753246753\n"
     ]
    }
   ],
   "source": [
    "print '% of Woman Winners (2009)'\n",
    "print percentage_of_gender_winners('female', 2009, election_results)\n",
    "print\n",
    "print '% of Woman Winners (2013)'\n",
    "print percentage_of_gender_winners('female', 2013, election_results)"
   ]
  },
  {
   "cell_type": "code",
   "execution_count": 107,
   "metadata": {
    "collapsed": true
   },
   "outputs": [],
   "source": [
    "election_winners_2009 = election_results[(election_results.year == 2009) & (election_results.winner)]\n",
    "election_winners_2013 = election_results[(election_results.year == 2013) & (election_results.winner)]"
   ]
  },
  {
   "cell_type": "code",
   "execution_count": 108,
   "metadata": {},
   "outputs": [],
   "source": [
    "concelhos_with_woman_elected_2009 = set(election_winners_2009[election_winners_2009.gender == 'female'].concelho.sort_values())\n",
    "\n",
    "concelhos_with_woman_elected_2013 = set(election_winners_2013[election_winners_2013.gender == 'female'].concelho.sort_values())"
   ]
  },
  {
   "cell_type": "code",
   "execution_count": 104,
   "metadata": {},
   "outputs": [
    {
     "data": {
      "text/plain": [
       "{'ALMADA',\n",
       " 'ANGRA DO HERO\\xc3\\x8dSMO',\n",
       " 'CAMINHA',\n",
       " 'MIRANDA DO CORVO',\n",
       " 'MONTIJO',\n",
       " 'NELAS',\n",
       " 'PALMELA',\n",
       " 'PONTA DELGADA',\n",
       " 'SALVATERRA DE MAGOS',\n",
       " 'TROFA',\n",
       " 'VILA DE REI',\n",
       " 'VILA FRANCA DE XIRA',\n",
       " 'VILA VELHA DE R\\xc3\\x93D\\xc3\\x83O'}"
      ]
     },
     "execution_count": 104,
     "metadata": {},
     "output_type": "execute_result"
    }
   ],
   "source": [
    "concelhos_with_woman_elected_2009 - concelhos_with_woman_elected_2013"
   ]
  },
  {
   "cell_type": "code",
   "execution_count": 105,
   "metadata": {},
   "outputs": [
    {
     "data": {
      "text/plain": [
       "{'ALANDROAL',\n",
       " 'AMADORA',\n",
       " 'ANADIA',\n",
       " 'ARRAIOLOS',\n",
       " 'CONST\\xc3\\x82NCIA',\n",
       " 'FREIXO DE ESPADA \\xc3\\x80 CINTA',\n",
       " 'LAGOS',\n",
       " 'MONTEMOR-O-NOVO',\n",
       " 'MOUR\\xc3\\x83O',\n",
       " 'PORTALEGRE',\n",
       " 'PORTIM\\xc3\\x83O',\n",
       " 'TOMAR',\n",
       " 'VILA DO CONDE'}"
      ]
     },
     "execution_count": 105,
     "metadata": {},
     "output_type": "execute_result"
    }
   ],
   "source": [
    "concelhos_with_woman_elected_2013 - concelhos_with_woman_elected_2009"
   ]
  },
  {
   "cell_type": "code",
   "execution_count": null,
   "metadata": {
    "collapsed": true
   },
   "outputs": [],
   "source": []
  }
 ],
 "metadata": {
  "kernelspec": {
   "display_name": "Python 2",
   "language": "python",
   "name": "python2"
  },
  "language_info": {
   "codemirror_mode": {
    "name": "ipython",
    "version": 2
   },
   "file_extension": ".py",
   "mimetype": "text/x-python",
   "name": "python",
   "nbconvert_exporter": "python",
   "pygments_lexer": "ipython2",
   "version": "2.7.12"
  }
 },
 "nbformat": 4,
 "nbformat_minor": 2
}

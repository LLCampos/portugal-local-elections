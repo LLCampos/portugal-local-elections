{
 "cells": [
  {
   "cell_type": "code",
   "execution_count": 1,
   "metadata": {
    "collapsed": true
   },
   "outputs": [],
   "source": [
    "import pandas as pd\n",
    "from pandas import Series, DataFrame\n",
    "import numpy as np"
   ]
  },
  {
   "cell_type": "code",
   "execution_count": null,
   "metadata": {
    "collapsed": true
   },
   "outputs": [],
   "source": []
  },
  {
   "cell_type": "code",
   "execution_count": 2,
   "metadata": {},
   "outputs": [],
   "source": [
    "ballot_order_data_2013 = pd.read_excel('data/raw_data/autarquicas-2013-ordem-boletim.xls')\n",
    "\n",
    "# Only want data for Municipal Chambers\n",
    "ballot_order_data_2013 = ballot_order_data_2013[ballot_order_data_2013[u'Órgão'] == 'CM']\n",
    "\n",
    "# Drop unecessary columns\n",
    "ballot_order_data_2013 = ballot_order_data_2013.drop(['Distrito / Ilha', 'Freguesia', u'Órgão', 'DDCCFF', 'Concelho', 'Nome'], axis=1)\n",
    "\n",
    "\n",
    "ballot_order_data_2013 = ballot_order_data_2013.rename(columns={'DDCC': 'INE_ID', 'Ord. Sorteio': 'Order', 'Candidatura': 'Party'})\n",
    "\n",
    "# Uppercase all party initials\n",
    "ballot_order_data_2013.Party = ballot_order_data_2013.Party.apply(lambda party: party.upper())\n",
    "\n",
    "ballot_order_data_2013 = ballot_order_data_2013.set_index('INE_ID')"
   ]
  },
  {
   "cell_type": "code",
   "execution_count": 3,
   "metadata": {
    "collapsed": true
   },
   "outputs": [],
   "source": [
    "ballot_order_data_2013.to_csv('data/processed_data/ballot-order-local-elections-2013.csv', encoding='UTF-8')"
   ]
  },
  {
   "cell_type": "code",
   "execution_count": null,
   "metadata": {
    "collapsed": true
   },
   "outputs": [],
   "source": []
  }
 ],
 "metadata": {
  "kernelspec": {
   "display_name": "Python 2",
   "language": "python",
   "name": "python2"
  },
  "language_info": {
   "codemirror_mode": {
    "name": "ipython",
    "version": 2
   },
   "file_extension": ".py",
   "mimetype": "text/x-python",
   "name": "python",
   "nbconvert_exporter": "python",
   "pygments_lexer": "ipython2",
   "version": "2.7.12"
  }
 },
 "nbformat": 4,
 "nbformat_minor": 2
}

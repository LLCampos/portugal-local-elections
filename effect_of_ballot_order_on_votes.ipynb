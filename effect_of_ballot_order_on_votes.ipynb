{
 "cells": [
  {
   "cell_type": "code",
   "execution_count": 12,
   "metadata": {
    "collapsed": true
   },
   "outputs": [],
   "source": [
    "import pandas as pd\n",
    "from pandas import Series, DataFrame\n",
    "import numpy as np\n",
    "import matplotlib as mpl\n",
    "import matplotlib.pyplot as plt\n",
    "from scipy.stats import pearsonr\n",
    "import scipy.stats\n",
    "\n",
    "import statsmodels.api as sm\n",
    "\n",
    "\n",
    "%matplotlib inline\n",
    "\n",
    "plt.rc('axes', labelsize=20) \n",
    "plt.rcParams[\"figure.figsize\"] = (10,10)\n",
    "plt.rc('xtick', labelsize=13)\n",
    "plt.rc('ytick', labelsize=13) \n",
    "mpl.rcParams['axes.titlesize'] = 24"
   ]
  },
  {
   "cell_type": "code",
   "execution_count": 13,
   "metadata": {
    "collapsed": true
   },
   "outputs": [],
   "source": [
    "election_results = pd.read_csv('data/processed_data/elections_camaras_municipais_portugal.csv')"
   ]
  },
  {
   "cell_type": "code",
   "execution_count": 14,
   "metadata": {
    "collapsed": true
   },
   "outputs": [],
   "source": [
    "# Get only relevant rows\n",
    "data_on_ballot_order = election_results[\n",
    "    (election_results.position_ballot.notnull()) & \n",
    "    (election_results.problems_ballot_order == False)\n",
    "]"
   ]
  },
  {
   "cell_type": "code",
   "execution_count": 15,
   "metadata": {},
   "outputs": [
    {
     "name": "stderr",
     "output_type": "stream",
     "text": [
      "/home/lcampos/Envs/local-elections-analysis/lib/python2.7/site-packages/ipykernel_launcher.py:6: SettingWithCopyWarning: \n",
      "A value is trying to be set on a copy of a slice from a DataFrame.\n",
      "Try using .loc[row_indexer,col_indexer] = value instead\n",
      "\n",
      "See the caveats in the documentation: http://pandas.pydata.org/pandas-docs/stable/indexing.html#indexing-view-versus-copy\n",
      "  \n"
     ]
    }
   ],
   "source": [
    "# Add column with the number of options in ballot\n",
    "ballot_lengths = {}\n",
    "for concelho in data_on_ballot_order.concelho.unique():\n",
    "    ballot_length = data_on_ballot_order[data_on_ballot_order.concelho == concelho].position_ballot.max()\n",
    "    ballot_lengths[concelho] = ballot_length\n",
    "data_on_ballot_order['ballot_length'] = data_on_ballot_order.concelho.apply(lambda concelho: ballot_lengths[concelho])"
   ]
  },
  {
   "cell_type": "code",
   "execution_count": 16,
   "metadata": {},
   "outputs": [
    {
     "name": "stderr",
     "output_type": "stream",
     "text": [
      "/home/lcampos/Envs/local-elections-analysis/lib/python2.7/site-packages/ipykernel_launcher.py:9: SettingWithCopyWarning: \n",
      "A value is trying to be set on a copy of a slice from a DataFrame.\n",
      "Try using .loc[row_indexer,col_indexer] = value instead\n",
      "\n",
      "See the caveats in the documentation: http://pandas.pydata.org/pandas-docs/stable/indexing.html#indexing-view-versus-copy\n",
      "  if __name__ == '__main__':\n"
     ]
    }
   ],
   "source": [
    "# Add column indicating if candidate is winner\n",
    "winners_indexes = []\n",
    "for concelho in data_on_ballot_order.concelho.unique():\n",
    "    # Index of the candidate with most votes of this concelho\n",
    "    index_winner = data_on_ballot_order[data_on_ballot_order.concelho == concelho].votes.argmax()\n",
    "    winners_indexes.append(index_winner)\n",
    "    \n",
    "\n",
    "data_on_ballot_order['winner'] = data_on_ballot_order.apply(lambda candidate: candidate.name in winners_indexes, 1)"
   ]
  },
  {
   "cell_type": "code",
   "execution_count": null,
   "metadata": {
    "collapsed": true
   },
   "outputs": [],
   "source": []
  },
  {
   "cell_type": "markdown",
   "metadata": {},
   "source": [
    "# Check correlation between position in the ballot and percentage of votes."
   ]
  },
  {
   "cell_type": "code",
   "execution_count": 59,
   "metadata": {},
   "outputs": [
    {
     "data": {
      "text/html": [
       "<table class=\"simpletable\">\n",
       "<caption>OLS Regression Results</caption>\n",
       "<tr>\n",
       "  <th>Dep. Variable:</th>         <td>votes_%</td>     <th>  R-squared:         </th> <td>   0.007</td> \n",
       "</tr>\n",
       "<tr>\n",
       "  <th>Model:</th>                   <td>OLS</td>       <th>  Adj. R-squared:    </th> <td>   0.007</td> \n",
       "</tr>\n",
       "<tr>\n",
       "  <th>Method:</th>             <td>Least Squares</td>  <th>  F-statistic:       </th> <td>   9.794</td> \n",
       "</tr>\n",
       "<tr>\n",
       "  <th>Date:</th>             <td>Fri, 21 Apr 2017</td> <th>  Prob (F-statistic):</th>  <td>0.00179</td> \n",
       "</tr>\n",
       "<tr>\n",
       "  <th>Time:</th>                 <td>10:24:41</td>     <th>  Log-Likelihood:    </th> <td> -5833.1</td> \n",
       "</tr>\n",
       "<tr>\n",
       "  <th>No. Observations:</th>      <td>  1311</td>      <th>  AIC:               </th> <td>1.167e+04</td>\n",
       "</tr>\n",
       "<tr>\n",
       "  <th>Df Residuals:</th>          <td>  1309</td>      <th>  BIC:               </th> <td>1.168e+04</td>\n",
       "</tr>\n",
       "<tr>\n",
       "  <th>Df Model:</th>              <td>     1</td>      <th>                     </th>     <td> </td>    \n",
       "</tr>\n",
       "<tr>\n",
       "  <th>Covariance Type:</th>      <td>nonrobust</td>    <th>                     </th>     <td> </td>    \n",
       "</tr>\n",
       "</table>\n",
       "<table class=\"simpletable\">\n",
       "<tr>\n",
       "         <td></td>            <th>coef</th>     <th>std err</th>      <th>t</th>      <th>P>|t|</th>  <th>[0.025</th>    <th>0.975]</th>  \n",
       "</tr>\n",
       "<tr>\n",
       "  <th>const</th>           <td>   26.1793</td> <td>    1.199</td> <td>   21.841</td> <td> 0.000</td> <td>   23.828</td> <td>   28.531</td>\n",
       "</tr>\n",
       "<tr>\n",
       "  <th>position_ballot</th> <td>   -1.1492</td> <td>    0.367</td> <td>   -3.129</td> <td> 0.002</td> <td>   -1.870</td> <td>   -0.429</td>\n",
       "</tr>\n",
       "</table>\n",
       "<table class=\"simpletable\">\n",
       "<tr>\n",
       "  <th>Omnibus:</th>       <td>354.301</td> <th>  Durbin-Watson:     </th> <td>   2.291</td>\n",
       "</tr>\n",
       "<tr>\n",
       "  <th>Prob(Omnibus):</th> <td> 0.000</td>  <th>  Jarque-Bera (JB):  </th> <td> 124.867</td>\n",
       "</tr>\n",
       "<tr>\n",
       "  <th>Skew:</th>          <td> 0.565</td>  <th>  Prob(JB):          </th> <td>7.68e-28</td>\n",
       "</tr>\n",
       "<tr>\n",
       "  <th>Kurtosis:</th>      <td> 1.995</td>  <th>  Cond. No.          </th> <td>    7.34</td>\n",
       "</tr>\n",
       "</table>"
      ],
      "text/plain": [
       "<class 'statsmodels.iolib.summary.Summary'>\n",
       "\"\"\"\n",
       "                            OLS Regression Results                            \n",
       "==============================================================================\n",
       "Dep. Variable:                votes_%   R-squared:                       0.007\n",
       "Model:                            OLS   Adj. R-squared:                  0.007\n",
       "Method:                 Least Squares   F-statistic:                     9.794\n",
       "Date:                Fri, 21 Apr 2017   Prob (F-statistic):            0.00179\n",
       "Time:                        10:24:41   Log-Likelihood:                -5833.1\n",
       "No. Observations:                1311   AIC:                         1.167e+04\n",
       "Df Residuals:                    1309   BIC:                         1.168e+04\n",
       "Df Model:                           1                                         \n",
       "Covariance Type:            nonrobust                                         \n",
       "===================================================================================\n",
       "                      coef    std err          t      P>|t|      [0.025      0.975]\n",
       "-----------------------------------------------------------------------------------\n",
       "const              26.1793      1.199     21.841      0.000      23.828      28.531\n",
       "position_ballot    -1.1492      0.367     -3.129      0.002      -1.870      -0.429\n",
       "==============================================================================\n",
       "Omnibus:                      354.301   Durbin-Watson:                   2.291\n",
       "Prob(Omnibus):                  0.000   Jarque-Bera (JB):              124.867\n",
       "Skew:                           0.565   Prob(JB):                     7.68e-28\n",
       "Kurtosis:                       1.995   Cond. No.                         7.34\n",
       "==============================================================================\n",
       "\n",
       "Warnings:\n",
       "[1] Standard Errors assume that the covariance matrix of the errors is correctly specified.\n",
       "\"\"\""
      ]
     },
     "execution_count": 59,
     "metadata": {},
     "output_type": "execute_result"
    },
    {
     "data": {
      "image/png": "[encoded data removed]",
      "text/plain": [
       "<matplotlib.figure.Figure at 0x7f894db18c90>"
      ]
     },
     "metadata": {},
     "output_type": "display_data"
    }
   ],
   "source": [
    "X = data_on_ballot_order.position_ballot\n",
    "X = sm.add_constant(X)\n",
    "y = data_on_ballot_order['votes_%']\n",
    "\n",
    "model = sm.OLS(y, X)\n",
    "\n",
    "est = model.fit()\n",
    "\n",
    "const, position_ballot_coef = est.params\n",
    "\n",
    "plt.scatter(X.position_ballot, y)\n",
    "plt.xlabel('Ballot Position')\n",
    "plt.ylabel('Votes (%)')\n",
    "plt.xticks(np.arange(0, max(X.position_ballot)+1, 1.0))\n",
    "\n",
    "regresssion_line = map(lambda x: position_ballot_coef * x + const, range(1,12))\n",
    "plt.plot(regresssion_line, 'r')\n",
    "\n",
    "est.summary()"
   ]
  },
  {
   "cell_type": "markdown",
   "metadata": {},
   "source": [
    "## Simulation to demonstrate relation between ballot length and percentage of votes"
   ]
  },
  {
   "cell_type": "code",
   "execution_count": 57,
   "metadata": {},
   "outputs": [
    {
     "data": {
      "text/plain": [
       "<matplotlib.text.Text at 0x7f894d76ce10>"
      ]
     },
     "execution_count": 57,
     "metadata": {},
     "output_type": "execute_result"
    },
    {
     "data": {
      "image/png": "[encoded data removed]",
      "text/plain": [
       "<matplotlib.figure.Figure at 0x7f894d6a4810>"
      ]
     },
     "metadata": {},
     "output_type": "display_data"
    }
   ],
   "source": [
    "import random\n",
    "\n",
    "ballot_lengths = map(int, list(data_on_ballot_order.ballot_length.unique()))\n",
    "\n",
    "all_elections_results = []\n",
    "\n",
    "for ballot_length in ballot_lengths:\n",
    "    \n",
    "    # Simulate elections 100 times for each ballot length\n",
    "    for _ in range(0,300):\n",
    "        \n",
    "        election_results = {}\n",
    "        for position in range(1, ballot_length + 1):\n",
    "            election_results[position] = 0\n",
    "        \n",
    "        # 100 votes\n",
    "        for _ in range(0,100):\n",
    "            position_vote = random.choice(range(1, ballot_length + 1))\n",
    "            election_results[position_vote] += 1\n",
    "            \n",
    "        all_elections_results.append(election_results)\n",
    "        \n",
    "\n",
    "df_simulation_results = pd.DataFrame(all_elections_results)\n",
    "\n",
    "for ballot_position in df_simulation_results.columns:\n",
    "    plt.scatter([ballot_position] * len(df_simulation_results[ballot_position]), df_simulation_results[ballot_position])\n",
    "plt.xlabel('Ballot Position')\n",
    "plt.ylabel('Votes (%)')"
   ]
  },
  {
   "cell_type": "markdown",
   "metadata": {},
   "source": [
    "## Consider ballot length"
   ]
  },
  {
   "cell_type": "code",
   "execution_count": 63,
   "metadata": {},
   "outputs": [
    {
     "data": {
      "text/html": [
       "<table class=\"simpletable\">\n",
       "<caption>OLS Regression Results</caption>\n",
       "<tr>\n",
       "  <th>Dep. Variable:</th>         <td>votes_%</td>     <th>  R-squared:         </th> <td>   0.087</td> \n",
       "</tr>\n",
       "<tr>\n",
       "  <th>Model:</th>                   <td>OLS</td>       <th>  Adj. R-squared:    </th> <td>   0.085</td> \n",
       "</tr>\n",
       "<tr>\n",
       "  <th>Method:</th>             <td>Least Squares</td>  <th>  F-statistic:       </th> <td>   61.97</td> \n",
       "</tr>\n",
       "<tr>\n",
       "  <th>Date:</th>             <td>Fri, 21 Apr 2017</td> <th>  Prob (F-statistic):</th> <td>1.94e-26</td> \n",
       "</tr>\n",
       "<tr>\n",
       "  <th>Time:</th>                 <td>10:26:01</td>     <th>  Log-Likelihood:    </th> <td> -5778.7</td> \n",
       "</tr>\n",
       "<tr>\n",
       "  <th>No. Observations:</th>      <td>  1311</td>      <th>  AIC:               </th> <td>1.156e+04</td>\n",
       "</tr>\n",
       "<tr>\n",
       "  <th>Df Residuals:</th>          <td>  1308</td>      <th>  BIC:               </th> <td>1.158e+04</td>\n",
       "</tr>\n",
       "<tr>\n",
       "  <th>Df Model:</th>              <td>     2</td>      <th>                     </th>     <td> </td>    \n",
       "</tr>\n",
       "<tr>\n",
       "  <th>Covariance Type:</th>      <td>nonrobust</td>    <th>                     </th>     <td> </td>    \n",
       "</tr>\n",
       "</table>\n",
       "<table class=\"simpletable\">\n",
       "<tr>\n",
       "         <td></td>            <th>coef</th>     <th>std err</th>      <th>t</th>      <th>P>|t|</th>  <th>[0.025</th>    <th>0.975]</th>  \n",
       "</tr>\n",
       "<tr>\n",
       "  <th>const</th>           <td>   43.0937</td> <td>    1.962</td> <td>   21.967</td> <td> 0.000</td> <td>   39.245</td> <td>   46.942</td>\n",
       "</tr>\n",
       "<tr>\n",
       "  <th>position_ballot</th> <td>    0.7178</td> <td>    0.394</td> <td>    1.824</td> <td> 0.068</td> <td>   -0.054</td> <td>    1.490</td>\n",
       "</tr>\n",
       "<tr>\n",
       "  <th>ballot_length</th>   <td>   -4.7020</td> <td>    0.442</td> <td>  -10.644</td> <td> 0.000</td> <td>   -5.569</td> <td>   -3.835</td>\n",
       "</tr>\n",
       "</table>\n",
       "<table class=\"simpletable\">\n",
       "<tr>\n",
       "  <th>Omnibus:</th>       <td>291.844</td> <th>  Durbin-Watson:     </th> <td>   2.394</td>\n",
       "</tr>\n",
       "<tr>\n",
       "  <th>Prob(Omnibus):</th> <td> 0.000</td>  <th>  Jarque-Bera (JB):  </th> <td>  97.026</td>\n",
       "</tr>\n",
       "<tr>\n",
       "  <th>Skew:</th>          <td> 0.454</td>  <th>  Prob(JB):          </th> <td>8.53e-22</td>\n",
       "</tr>\n",
       "<tr>\n",
       "  <th>Kurtosis:</th>      <td> 2.025</td>  <th>  Cond. No.          </th> <td>    21.3</td>\n",
       "</tr>\n",
       "</table>"
      ],
      "text/plain": [
       "<class 'statsmodels.iolib.summary.Summary'>\n",
       "\"\"\"\n",
       "                            OLS Regression Results                            \n",
       "==============================================================================\n",
       "Dep. Variable:                votes_%   R-squared:                       0.087\n",
       "Model:                            OLS   Adj. R-squared:                  0.085\n",
       "Method:                 Least Squares   F-statistic:                     61.97\n",
       "Date:                Fri, 21 Apr 2017   Prob (F-statistic):           1.94e-26\n",
       "Time:                        10:26:01   Log-Likelihood:                -5778.7\n",
       "No. Observations:                1311   AIC:                         1.156e+04\n",
       "Df Residuals:                    1308   BIC:                         1.158e+04\n",
       "Df Model:                           2                                         \n",
       "Covariance Type:            nonrobust                                         \n",
       "===================================================================================\n",
       "                      coef    std err          t      P>|t|      [0.025      0.975]\n",
       "-----------------------------------------------------------------------------------\n",
       "const              43.0937      1.962     21.967      0.000      39.245      46.942\n",
       "position_ballot     0.7178      0.394      1.824      0.068      -0.054       1.490\n",
       "ballot_length      -4.7020      0.442    -10.644      0.000      -5.569      -3.835\n",
       "==============================================================================\n",
       "Omnibus:                      291.844   Durbin-Watson:                   2.394\n",
       "Prob(Omnibus):                  0.000   Jarque-Bera (JB):               97.026\n",
       "Skew:                           0.454   Prob(JB):                     8.53e-22\n",
       "Kurtosis:                       2.025   Cond. No.                         21.3\n",
       "==============================================================================\n",
       "\n",
       "Warnings:\n",
       "[1] Standard Errors assume that the covariance matrix of the errors is correctly specified.\n",
       "\"\"\""
      ]
     },
     "execution_count": 63,
     "metadata": {},
     "output_type": "execute_result"
    }
   ],
   "source": [
    "X = data_on_ballot_order[['position_ballot', 'ballot_length']]\n",
    "X = sm.add_constant(X)\n",
    "y = data_on_ballot_order['votes_%']\n",
    "\n",
    "model = sm.OLS(y, X)\n",
    "\n",
    "est = model.fit()\n",
    "\n",
    "est.summary()"
   ]
  },
  {
   "cell_type": "code",
   "execution_count": 65,
   "metadata": {},
   "outputs": [
    {
     "name": "stdout",
     "output_type": "stream",
     "text": [
      "1311\n",
      "1311\n"
     ]
    }
   ],
   "source": [
    "# No outliers\n",
    "print len(y)\n",
    "print len(scipy.stats.mstats.winsorize(y))"
   ]
  }
 ],
 "metadata": {
  "kernelspec": {
   "display_name": "Python 2",
   "language": "python",
   "name": "python2"
  },
  "language_info": {
   "codemirror_mode": {
    "name": "ipython",
    "version": 2
   },
   "file_extension": ".py",
   "mimetype": "text/x-python",
   "name": "python",
   "nbconvert_exporter": "python",
   "pygments_lexer": "ipython2",
   "version": "2.7.12"
  }
 },
 "nbformat": 4,
 "nbformat_minor": 2
}

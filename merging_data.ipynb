{
 "cells": [
  {
   "cell_type": "code",
   "execution_count": 56,
   "metadata": {
    "collapsed": true
   },
   "outputs": [],
   "source": [
    "import pandas as pd\n",
    "from pandas import Series, DataFrame\n",
    "import numpy as np\n",
    "import matplotlib as mpl\n",
    "import matplotlib.pyplot as plt\n",
    "from scipy.stats import pearsonr\n",
    "import math\n",
    "\n",
    "\n",
    "%matplotlib inline\n",
    "\n",
    "plt.rc('axes', labelsize=20) \n",
    "plt.rcParams[\"figure.figsize\"] = (10,10)\n",
    "plt.rc('xtick', labelsize=13)\n",
    "plt.rc('ytick', labelsize=13) \n",
    "mpl.rcParams['axes.titlesize'] = 24"
   ]
  },
  {
   "cell_type": "code",
   "execution_count": 57,
   "metadata": {
    "collapsed": true
   },
   "outputs": [],
   "source": [
    "from numpy import math\n",
    "\n",
    "def fill_names(line, merged, not_merged):\n",
    "    if not isinstance(line['candidate_name'], basestring):\n",
    "        correct_name = not_merged.ix[not_merged.INE_ID == line.INE_ID]['candidate_name']\n",
    "        if len(correct_name) == 1:\n",
    "            merged.set_value(col='candidate_name', index=line.name, value=correct_name.iloc[0])\n",
    "            \n",
    "            len_before = len(not_merged)\n",
    "            not_merged.drop(not_merged.index[not_merged.INE_ID == line.INE_ID], inplace=True)\n",
    "            len_after = len(not_merged)\n",
    "            assert len_before - len_after == 1\n",
    "        else:\n",
    "            if len(correct_name) > 1:\n",
    "                print 'More than one citizens party in INE_ID ' + str(line.INE_ID)\n",
    "            if len(correct_name) == 0:\n",
    "                print 'Zero with citizens party in INE_ID ' + str(line.INE_ID)\n",
    "                \n",
    "def fill_ballot_order(line, merged, not_merged):\n",
    "    if math.isnan(line['Order']):\n",
    "        correct_ballot_order = not_merged.ix[not_merged.INE_ID == line.INE_ID]['Order']\n",
    "        if len(correct_ballot_order) == 1:\n",
    "            merged.set_value(col='Order', index=line.name, value=correct_ballot_order.iloc[0])\n",
    "            \n",
    "            len_before = len(not_merged)\n",
    "            not_merged.drop(not_merged.index[not_merged.INE_ID == line.INE_ID], inplace=True)\n",
    "            len_after = len(not_merged)\n",
    "            assert len_before - len_after == 1\n",
    "            \n",
    "        else:\n",
    "            if len(correct_ballot_order) > 1:\n",
    "                print 'More than one citizens party in INE_ID ' + str(line.INE_ID)\n",
    "            if len(correct_ballot_order) == 0:\n",
    "                print 'Zero with citizens party in INE_ID ' + str(line.INE_ID)"
   ]
  },
  {
   "cell_type": "markdown",
   "metadata": {},
   "source": [
    "# 2013"
   ]
  },
  {
   "cell_type": "code",
   "execution_count": 87,
   "metadata": {
    "collapsed": true
   },
   "outputs": [],
   "source": [
    "local_election_results_2013 = pd.read_csv('data/processed_data/local_elections_2013_results.csv', encoding='utf-8')\n",
    "local_election_candidates_2013 = pd.read_csv('data/processed_data/local_elections_candidates_2013.csv', encoding='utf-8')\n",
    "local_elections_order_2013 = pd.read_csv('data/processed_data/ballot-order-local-elections-2013.csv')"
   ]
  },
  {
   "cell_type": "code",
   "execution_count": 88,
   "metadata": {
    "collapsed": true
   },
   "outputs": [],
   "source": [
    "merged_results_candidates_2013 = pd.merge(\n",
    "    local_election_results_2013, local_election_candidates_2013, \n",
    "    left_on=['INE_ID', 'Sigla', 'year'], right_on=['INE_ID', 'party', 'year'],\n",
    "    how='outer')\n",
    "merged_results_candidates_2013 = merged_results_candidates_2013.drop('party', 1)\n",
    "\n",
    "len_everything_together = len(merged_results_candidates_2013)\n",
    "\n",
    "not_merged_results_candidates_2013 = merged_results_candidates_2013[merged_results_candidates_2013.Concelho.isnull()]\n",
    "merged_results_candidates_2013 = merged_results_candidates_2013[merged_results_candidates_2013.Concelho.notnull()]\n",
    "\n",
    "assert len_everything_together == (len(not_merged_results_candidates_2013) + len(merged_results_candidates_2013))"
   ]
  },
  {
   "cell_type": "code",
   "execution_count": 89,
   "metadata": {
    "collapsed": true
   },
   "outputs": [],
   "source": [
    "# Some hacking to merge the rest of the entries\n",
    "for i in range(len(merged_results_candidates_2013)):\n",
    "    line = merged_results_candidates_2013.ix[i]\n",
    "    fill_names(line, merged_results_candidates_2013, not_merged_results_candidates_2013)\n",
    "    \n",
    "assert len(not_merged_results_candidates_2013) == 0"
   ]
  },
  {
   "cell_type": "code",
   "execution_count": 90,
   "metadata": {},
   "outputs": [],
   "source": [
    "merged_2013 = pd.merge(\n",
    "    merged_results_candidates_2013, local_elections_order_2013, \n",
    "    left_on=['INE_ID', 'Sigla'], right_on=['INE_ID', 'Party'],\n",
    "    how='outer'\n",
    ")\n",
    "merged_2013 = merged_2013.drop('Party', 1)\n",
    "\n",
    "len_everything_together = len(merged_2013)\n",
    "\n",
    "not_merged_2013 = merged_2013[merged_2013.Concelho.isnull()]\n",
    "merged_2013 = merged_2013[merged_2013.Concelho.notnull()]\n",
    "\n",
    "assert len_everything_together == (len(not_merged_2013) + len(merged_2013))"
   ]
  },
  {
   "cell_type": "code",
   "execution_count": 91,
   "metadata": {
    "collapsed": true
   },
   "outputs": [],
   "source": [
    "# Some hacking to merge the missing ballot order numbers\n",
    "for i in range(len(merged_2013)):\n",
    "    line = merged_2013.ix[i]\n",
    "    fill_ballot_order(line, merged_2013, not_merged_2013)\n",
    "    \n",
    "# assert len(not_merged_2013) == 0"
   ]
  },
  {
   "cell_type": "markdown",
   "metadata": {},
   "source": [
    "## There is a problem with the data. Here is the e-mail I've send to CNE (Nacional Comission of Elections) in hope to try to solve them\n",
    "\n",
    "Estou a analisar dados das eleições autárquicas de 2013 e deparei-me com algo estranho. Estou-me a referir apenas a dados referentes a eleições para a Câmara Municipal.\n",
    "\n",
    "No documento do sorteio das candidaturas (disponível aqui) estão presentes alguns partidos que depois não aparecem nos resultados das eleições (disponíveis aqui).\n",
    "\n",
    "Por exemplo, segundo o documento do sorteio, para Ferreira do Zêzere, o partido B.E. supostamente estaria em primeiro lugar no boletim de voto. Mas nos resultados, este partido nem sequer aparece listado. \n",
    "\n",
    "Este problema acontece com os seguintes locais e partidos:\n",
    "\n",
    "[TABLE]\n",
    "\n",
    "A primeira coluna pode ser ignorada. INE_ID é o número de identificação dado ao local pelo Instituto Nacional de Estatística.\n",
    "\n",
    "Porque é que isto acontece?"
   ]
  },
  {
   "cell_type": "code",
   "execution_count": 92,
   "metadata": {
    "collapsed": true
   },
   "outputs": [],
   "source": [
    "# Mark the Locations where the problem ocurrs \n",
    "merged_2013['problems_ballot_order'] = merged_2013.INE_ID.isin(not_merged_2013.INE_ID)"
   ]
  },
  {
   "cell_type": "markdown",
   "metadata": {},
   "source": [
    "# 2009"
   ]
  },
  {
   "cell_type": "code",
   "execution_count": 93,
   "metadata": {
    "collapsed": true
   },
   "outputs": [],
   "source": [
    "local_election_results_2009 = pd.read_csv('data/processed_data/local_elections_2009_results.csv', encoding='utf-8')\n",
    "local_election_candidates_2009 = pd.read_csv('data/processed_data/local_elections_candidates_2009.csv', encoding='utf-8')"
   ]
  },
  {
   "cell_type": "code",
   "execution_count": 94,
   "metadata": {
    "collapsed": true
   },
   "outputs": [],
   "source": [
    "merged_results_candidates_2009 = pd.merge(\n",
    "    local_election_results_2009, local_election_candidates_2009, \n",
    "    left_on=['INE_ID', 'Sigla', 'year'], right_on=['INE_ID', 'party', 'year'],\n",
    "    how='outer')\n",
    "merged_results_candidates_2009 = merged_results_candidates_2009.drop('party', 1)\n",
    "\n",
    "len_everything_together = len(merged_results_candidates_2009)\n",
    "\n",
    "not_merged_results_candidates_2009 = merged_results_candidates_2009[merged_results_candidates_2009.Concelho.isnull()]\n",
    "merged_results_candidates_2009 = merged_results_candidates_2009[merged_results_candidates_2009.Concelho.notnull()]\n",
    "\n",
    "assert len_everything_together == (len(not_merged_results_candidates_2009) + len(merged_results_candidates_2009))"
   ]
  },
  {
   "cell_type": "code",
   "execution_count": 95,
   "metadata": {},
   "outputs": [],
   "source": [
    "# Some hacking to merge the rest of the entries\n",
    "for i in range(len(merged_results_candidates_2009)):\n",
    "    line = merged_results_candidates_2009.ix[i]\n",
    "    fill_names(line, merged_results_candidates_2009, not_merged_results_candidates_2009)\n",
    "    \n",
    "assert len(not_merged_results_candidates_2009) == 0"
   ]
  },
  {
   "cell_type": "code",
   "execution_count": 96,
   "metadata": {
    "collapsed": true
   },
   "outputs": [],
   "source": [
    "merged_2009 = merged_results_candidates_2009"
   ]
  },
  {
   "cell_type": "markdown",
   "metadata": {
    "collapsed": true
   },
   "source": [
    "# Join data form all the years into just one data frame"
   ]
  },
  {
   "cell_type": "code",
   "execution_count": 131,
   "metadata": {
    "collapsed": true
   },
   "outputs": [],
   "source": [
    "elections_df = pd.concat([merged_2009, merged_2013])"
   ]
  },
  {
   "cell_type": "code",
   "execution_count": 132,
   "metadata": {
    "collapsed": true
   },
   "outputs": [],
   "source": [
    "import gender_guesser.detector as gender\n",
    "gender_detector = gender.Detector()\n",
    "\n",
    "def get_gender(name):  \n",
    "    first_name = name.split(' ')[0]\n",
    "    \n",
    "    male_names = [u'João', u'Acílio', u'Litério', u'Hersílio', u'Agusto', u'Romão', u'Hélder', u'Dulcídio', u'Alano'\n",
    "                  u'Gerónimo', u'Isaltino', u'Avantino', u'Atílio', u'Vitor', u'Beraldino', u'Estevão', u'Hernani',\n",
    "                  u'Fábio', u'Juvenálio', u'Edegar', u'Bráulio', u'Vasques', u'Joviano', u'Alano', u'Gerónimo',\n",
    "                  u'Honório', u'Albérico', u'Tomé', u'Gualter', u'Flamiano', u'Milcíades', u'Cílio', u'Parcidio',\n",
    "                  u'Herlander', u'Lélio', u'Alírio', u'Patrique', u'Dinarte', u'Dírio', u'Jesus', u'Orlindo']\n",
    "    female_names = [u'Sílvia', u'Ercília', u'Urãnia', u'Zuraida', u'Fermelinda', u'Brizelinda', u'Léli', u'Nair']\n",
    "    \n",
    "    if first_name in male_names:\n",
    "        return u'male'\n",
    "    \n",
    "    if first_name in female_names:\n",
    "        return u'female'\n",
    "    \n",
    "    return gender_detector.get_gender(first_name)\n"
   ]
  },
  {
   "cell_type": "code",
   "execution_count": 133,
   "metadata": {
    "collapsed": true
   },
   "outputs": [],
   "source": [
    "elections_df['gender'] = elections_df['candidate_name'].apply(get_gender)"
   ]
  },
  {
   "cell_type": "code",
   "execution_count": 134,
   "metadata": {},
   "outputs": [
    {
     "data": {
      "text/html": [
       "<div>\n",
       "<table border=\"1\" class=\"dataframe\">\n",
       "  <thead>\n",
       "    <tr style=\"text-align: right;\">\n",
       "      <th></th>\n",
       "      <th>Abstention (%)</th>\n",
       "      <th>Brancos</th>\n",
       "      <th>Concelho</th>\n",
       "      <th>INE_ID</th>\n",
       "      <th>Inscritos</th>\n",
       "      <th>Mandatos</th>\n",
       "      <th>Nulos</th>\n",
       "      <th>Order</th>\n",
       "      <th>Sigla</th>\n",
       "      <th>Tipo</th>\n",
       "      <th>Votantes</th>\n",
       "      <th>Votos</th>\n",
       "      <th>Votos (%)</th>\n",
       "      <th>candidate_name</th>\n",
       "      <th>problems_ballot_order</th>\n",
       "      <th>year</th>\n",
       "      <th>gender</th>\n",
       "    </tr>\n",
       "  </thead>\n",
       "  <tbody>\n",
       "  </tbody>\n",
       "</table>\n",
       "</div>"
      ],
      "text/plain": [
       "Empty DataFrame\n",
       "Columns: [Abstention (%), Brancos, Concelho, INE_ID, Inscritos, Mandatos, Nulos, Order, Sigla, Tipo, Votantes, Votos, Votos (%), candidate_name, problems_ballot_order, year, gender]\n",
       "Index: []"
      ]
     },
     "execution_count": 134,
     "metadata": {},
     "output_type": "execute_result"
    }
   ],
   "source": [
    "elections_df.ix[elections_df.gender == u'unknown']"
   ]
  },
  {
   "cell_type": "code",
   "execution_count": 135,
   "metadata": {},
   "outputs": [
    {
     "data": {
      "text/plain": [
       "array([u'male', u'female'], dtype=object)"
      ]
     },
     "execution_count": 135,
     "metadata": {},
     "output_type": "execute_result"
    }
   ],
   "source": [
    "elections_df.gender.unique()"
   ]
  },
  {
   "cell_type": "code",
   "execution_count": 136,
   "metadata": {
    "collapsed": true
   },
   "outputs": [],
   "source": [
    "elections_df = elections_df.set_index('INE_ID')\n",
    "\n",
    "elections_df = elections_df.rename(columns={\n",
    "    'Brancos': 'blank_votes',\n",
    "    'Concelho': 'concelho',\n",
    "    'Inscritos': 'enrolled',\n",
    "    'Nulos': 'null_votes',\n",
    "    'Mandatos': 'number_mandates',\n",
    "    'Order': 'position_ballot',\n",
    "    'Sigla': 'party_initials',\n",
    "    'Tipo': 'party_type',\n",
    "    'Votantes': 'voters',\n",
    "    'Votos': 'votes',\n",
    "    'Abstention (%)': 'abstention_%',\n",
    "    'Votos (%)': 'votes_%',\n",
    "})"
   ]
  },
  {
   "cell_type": "code",
   "execution_count": 137,
   "metadata": {},
   "outputs": [],
   "source": [
    "new_columns_order = ['year', 'concelho', 'enrolled', 'voters', 'abstention_%', 'blank_votes', 'null_votes', 'party_initials', 'party_type', 'votes', 'votes_%', 'number_mandates', 'candidate_name', 'gender', 'position_ballot', 'problems_ballot_order']\n",
    "assert len(new_columns_order) == len(list(elections_df))\n",
    "elections_df = elections_df[new_columns_order]"
   ]
  },
  {
   "cell_type": "code",
   "execution_count": 138,
   "metadata": {},
   "outputs": [],
   "source": [
    "# Some columns that should contain integers contain floats. Correct that. \n",
    "elections_df.year = elections_df.year.astype(int)\n",
    "elections_df.enrolled = elections_df.enrolled.astype(int)\n",
    "elections_df.voters = elections_df.voters.astype(int)\n",
    "elections_df.votes = elections_df.votes.astype(int)\n",
    "elections_df.number_mandates = elections_df.number_mandates.astype(int)\n",
    "elections_df.blank_votes = elections_df.blank_votes.astype(int)\n",
    "elections_df.null_votes = elections_df.null_votes.astype(int)\n",
    "elections_df.null_votes = elections_df.null_votes.astype(int)"
   ]
  },
  {
   "cell_type": "code",
   "execution_count": 144,
   "metadata": {},
   "outputs": [],
   "source": [
    "# Complete votes_% column\n",
    "elections_df['votes_%'] = (elections_df.votes / (elections_df.voters - elections_df.blank_votes - elections_df.null_votes)) * 100"
   ]
  },
  {
   "cell_type": "code",
   "execution_count": 147,
   "metadata": {},
   "outputs": [],
   "source": [
    "elections_df.to_csv('data/processed_data/elections_camaras_municipais_portugal.csv', encoding='utf-8')"
   ]
  },
  {
   "cell_type": "code",
   "execution_count": null,
   "metadata": {
    "collapsed": true
   },
   "outputs": [],
   "source": []
  }
 ],
 "metadata": {
  "kernelspec": {
   "display_name": "Python 2",
   "language": "python",
   "name": "python2"
  },
  "language_info": {
   "codemirror_mode": {
    "name": "ipython",
    "version": 2
   },
   "file_extension": ".py",
   "mimetype": "text/x-python",
   "name": "python",
   "nbconvert_exporter": "python",
   "pygments_lexer": "ipython2",
   "version": "2.7.12"
  }
 },
 "nbformat": 4,
 "nbformat_minor": 2
}

{
 "cells": [
  {
   "cell_type": "code",
   "execution_count": 193,
   "metadata": {
    "collapsed": true,
    "deletable": true,
    "editable": true
   },
   "outputs": [],
   "source": [
    "import pandas as pd\n",
    "from pandas import Series, DataFrame\n",
    "import numpy as np\n",
    "import matplotlib as mpl\n",
    "import matplotlib.pyplot as plt\n",
    "from scipy.stats import pearsonr\n",
    "\n",
    "\n",
    "%matplotlib inline\n",
    "\n",
    "plt.rc('axes', labelsize=20) \n",
    "plt.rcParams[\"figure.figsize\"] = (10,10)\n",
    "plt.rc('xtick', labelsize=13)\n",
    "plt.rc('ytick', labelsize=13) \n",
    "mpl.rcParams['axes.titlesize'] = 24"
   ]
  },
  {
   "cell_type": "code",
   "execution_count": 194,
   "metadata": {
    "collapsed": true,
    "deletable": true,
    "editable": true
   },
   "outputs": [],
   "source": [
    "local_election_results_2013 = pd.read_csv('data/processed_data/local_elections_2013_results.csv')\n",
    "local_election_candidates_2013 = pd.read_csv('data/processed_data/local_elections_candidates_2013.csv')"
   ]
  },
  {
   "cell_type": "code",
   "execution_count": 195,
   "metadata": {
    "collapsed": false,
    "deletable": true,
    "editable": true
   },
   "outputs": [],
   "source": [
    "merged_df = pd.merge(\n",
    "    local_election_results_2013, local_election_candidates_2013, \n",
    "    left_on=['INE_ID', 'Sigla', 'year'], right_on=['INE_ID', 'party', 'year'],\n",
    "    how='outer')\n",
    "merged_df = merged_df.drop('party', 1)"
   ]
  },
  {
   "cell_type": "code",
   "execution_count": 196,
   "metadata": {
    "collapsed": true,
    "deletable": true,
    "editable": true
   },
   "outputs": [],
   "source": [
    "not_merged = merged_df[merged_df.Concelho.isnull()]"
   ]
  },
  {
   "cell_type": "code",
   "execution_count": 197,
   "metadata": {
    "collapsed": false,
    "deletable": true,
    "editable": true
   },
   "outputs": [],
   "source": [
    "from numpy import math\n",
    "\n",
    "def fill_names(line):\n",
    "    if not isinstance(line['candidate_name'], basestring):\n",
    "        correct_name = not_merged.ix[not_merged.INE_ID == line.INE_ID]['candidate_name']\n",
    "        if len(correct_name) == 1:\n",
    "            merged_df.set_value(col='candidate_name', index=line.name, value=correct_name)\n",
    "        else:\n",
    "            if len(correct_name) > 1:\n",
    "                print 'More than one citizens party in INE_ID ' + str(line.INE_ID)\n",
    "            if len(correct_name) == 0:\n",
    "                print 'Zero with citizens party in INE_ID ' + str(line.INE_ID)"
   ]
  },
  {
   "cell_type": "code",
   "execution_count": 198,
   "metadata": {
    "collapsed": false,
    "deletable": true,
    "editable": true
   },
   "outputs": [],
   "source": [
    "# Some hacking to merge the rest of the entries\n",
    "for i in range(len(merged_df)):\n",
    "    line = merged_df.ix[i]\n",
    "    fill_names(line)"
   ]
  },
  {
   "cell_type": "code",
   "execution_count": 199,
   "metadata": {
    "collapsed": false,
    "deletable": true,
    "editable": true
   },
   "outputs": [],
   "source": [
    "merged_df = merged_df.ix[merged_df.Concelho.notnull()]"
   ]
  }
 ],
 "metadata": {
  "kernelspec": {
   "display_name": "Python 2",
   "language": "python",
   "name": "python2"
  },
  "language_info": {
   "codemirror_mode": {
    "name": "ipython",
    "version": 2
   },
   "file_extension": ".py",
   "mimetype": "text/x-python",
   "name": "python",
   "nbconvert_exporter": "python",
   "pygments_lexer": "ipython2",
   "version": "2.7.12"
  }
 },
 "nbformat": 4,
 "nbformat_minor": 2
}

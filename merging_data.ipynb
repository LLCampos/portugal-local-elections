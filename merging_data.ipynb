{
 "cells": [
  {
   "cell_type": "code",
   "execution_count": 242,
   "metadata": {
    "collapsed": true
   },
   "outputs": [],
   "source": [
    "import pandas as pd\n",
    "from pandas import Series, DataFrame\n",
    "import numpy as np\n",
    "import matplotlib as mpl\n",
    "import matplotlib.pyplot as plt\n",
    "from scipy.stats import pearsonr\n",
    "\n",
    "\n",
    "%matplotlib inline\n",
    "\n",
    "plt.rc('axes', labelsize=20) \n",
    "plt.rcParams[\"figure.figsize\"] = (10,10)\n",
    "plt.rc('xtick', labelsize=13)\n",
    "plt.rc('ytick', labelsize=13) \n",
    "mpl.rcParams['axes.titlesize'] = 24"
   ]
  },
  {
   "cell_type": "code",
   "execution_count": 243,
   "metadata": {
    "collapsed": true
   },
   "outputs": [],
   "source": [
    "from numpy import math\n",
    "\n",
    "def fill_names(line, merged, not_merged):\n",
    "    if not isinstance(line['candidate_name'], basestring):\n",
    "        correct_name = not_merged.ix[not_merged.INE_ID == line.INE_ID]['candidate_name']\n",
    "        if len(correct_name) == 1:\n",
    "            merged.set_value(col='candidate_name', index=line.name, value=correct_name.iloc[0])\n",
    "        else:\n",
    "            if len(correct_name) > 1:\n",
    "                print 'More than one citizens party in INE_ID ' + str(line.INE_ID)\n",
    "            if len(correct_name) == 0:\n",
    "                print 'Zero with citizens party in INE_ID ' + str(line.INE_ID)"
   ]
  },
  {
   "cell_type": "markdown",
   "metadata": {},
   "source": [
    "# 2013"
   ]
  },
  {
   "cell_type": "code",
   "execution_count": 244,
   "metadata": {
    "collapsed": true
   },
   "outputs": [],
   "source": [
    "local_election_results_2013 = pd.read_csv('data/processed_data/local_elections_2013_results.csv', encoding='utf-8')\n",
    "local_election_candidates_2013 = pd.read_csv('data/processed_data/local_elections_candidates_2013.csv', encoding='utf-8')"
   ]
  },
  {
   "cell_type": "code",
   "execution_count": 245,
   "metadata": {
    "collapsed": true
   },
   "outputs": [],
   "source": [
    "merged_df_2013 = pd.merge(\n",
    "    local_election_results_2013, local_election_candidates_2013, \n",
    "    left_on=['INE_ID', 'Sigla', 'year'], right_on=['INE_ID', 'party', 'year'],\n",
    "    how='outer')\n",
    "merged_df_2013 = merged_df_2013.drop('party', 1)"
   ]
  },
  {
   "cell_type": "code",
   "execution_count": 246,
   "metadata": {
    "collapsed": true
   },
   "outputs": [],
   "source": [
    "not_merged_2013 = merged_df_2013[merged_df_2013.Concelho.isnull()]"
   ]
  },
  {
   "cell_type": "code",
   "execution_count": 247,
   "metadata": {
    "collapsed": true
   },
   "outputs": [],
   "source": [
    "# Some hacking to merge the rest of the entries\n",
    "for i in range(len(merged_df_2013)):\n",
    "    line = merged_df_2013.ix[i]\n",
    "    fill_names(line, merged_df_2013, not_merged_2013)"
   ]
  },
  {
   "cell_type": "code",
   "execution_count": 248,
   "metadata": {
    "collapsed": true
   },
   "outputs": [],
   "source": [
    "merged_df_2013 = merged_df_2013.ix[merged_df_2013.Concelho.notnull()]"
   ]
  },
  {
   "cell_type": "markdown",
   "metadata": {},
   "source": [
    "# 2009"
   ]
  },
  {
   "cell_type": "code",
   "execution_count": 249,
   "metadata": {
    "collapsed": true
   },
   "outputs": [],
   "source": [
    "local_election_results_2009 = pd.read_csv('data/processed_data/local_elections_2009_results.csv', encoding='utf-8')\n",
    "local_election_candidates_2009 = pd.read_csv('data/processed_data/local_elections_candidates_2009.csv', encoding='utf-8')"
   ]
  },
  {
   "cell_type": "code",
   "execution_count": 250,
   "metadata": {
    "collapsed": true
   },
   "outputs": [],
   "source": [
    "merged_df_2009 = pd.merge(\n",
    "    local_election_results_2009, local_election_candidates_2009, \n",
    "    left_on=['INE_ID', 'Sigla', 'year'], right_on=['INE_ID', 'party', 'year'],\n",
    "    how='outer')\n",
    "merged_df_2009 = merged_df_2009.drop('party', 1)"
   ]
  },
  {
   "cell_type": "code",
   "execution_count": 251,
   "metadata": {
    "collapsed": true
   },
   "outputs": [],
   "source": [
    "not_merged_2009 = merged_df_2009[merged_df_2009.Concelho.isnull()]"
   ]
  },
  {
   "cell_type": "code",
   "execution_count": 252,
   "metadata": {
    "collapsed": true
   },
   "outputs": [],
   "source": [
    "# Some hacking to merge the rest of the entries\n",
    "for i in range(len(merged_df_2009)):\n",
    "    line = merged_df_2009.ix[i]\n",
    "    fill_names(line, merged_df_2009, not_merged_2009)"
   ]
  },
  {
   "cell_type": "code",
   "execution_count": 253,
   "metadata": {
    "collapsed": true
   },
   "outputs": [],
   "source": [
    "merged_df_2009 = merged_df_2009.ix[merged_df_2009.Concelho.notnull()]"
   ]
  },
  {
   "cell_type": "markdown",
   "metadata": {
    "collapsed": true
   },
   "source": [
    "# Join data form all the years into just one data frame"
   ]
  },
  {
   "cell_type": "code",
   "execution_count": 254,
   "metadata": {
    "collapsed": true
   },
   "outputs": [],
   "source": [
    "elections_df = pd.concat([merged_df_2009, merged_df_2013])"
   ]
  },
  {
   "cell_type": "code",
   "execution_count": 258,
   "metadata": {},
   "outputs": [],
   "source": [
    "import gender_guesser.detector as gender\n",
    "gender_detector = gender.Detector()\n",
    "\n",
    "def get_gender(name):  \n",
    "    first_name = name.split(' ')[0]\n",
    "    \n",
    "    male_names = [u'João', u'Acílio', u'Litério', u'Hersílio', u'Agusto', u'Romão', u'Hélder', u'Dulcídio', u'Alano'\n",
    "                  u'Gerónimo', u'Isaltino', u'Avantino', u'Atílio', u'Vitor', u'Beraldino', u'Estevão', u'Hernani',\n",
    "                  u'Fábio', u'Juvenálio', u'Edegar', u'Bráulio', u'Vasques', u'Joviano', u'Alano', u'Gerónimo',\n",
    "                  u'Honório', u'Albérico', u'Tomé', u'Gualter', u'Flamiano', u'Milcíades', u'Cílio', u'Parcidio',\n",
    "                  u'Herlander', u'Lélio', u'Alírio', u'Patrique', u'Dinarte', u'Dírio', u'Jesus', u'Orlindo']\n",
    "    female_names = [u'Sílvia', u'Ercília', u'Urãnia', u'Zuraida', u'Fermelinda', u'Brizelinda', u'Léli', u'Nair']\n",
    "    \n",
    "    if first_name in male_names:\n",
    "        return u'male'\n",
    "    \n",
    "    if first_name in female_names:\n",
    "        return u'female'\n",
    "    \n",
    "    return gender_detector.get_gender(first_name)\n"
   ]
  },
  {
   "cell_type": "code",
   "execution_count": 259,
   "metadata": {},
   "outputs": [],
   "source": [
    "elections_df['gender'] = elections_df['candidate_name'].apply(get_gender)"
   ]
  },
  {
   "cell_type": "code",
   "execution_count": 260,
   "metadata": {},
   "outputs": [
    {
     "data": {
      "text/html": [
       "<div>\n",
       "<table border=\"1\" class=\"dataframe\">\n",
       "  <thead>\n",
       "    <tr style=\"text-align: right;\">\n",
       "      <th></th>\n",
       "      <th>Abstention (%)</th>\n",
       "      <th>Brancos</th>\n",
       "      <th>Concelho</th>\n",
       "      <th>INE_ID</th>\n",
       "      <th>Inscritos</th>\n",
       "      <th>Mandatos</th>\n",
       "      <th>Nulos</th>\n",
       "      <th>Sigla</th>\n",
       "      <th>Tipo</th>\n",
       "      <th>Votantes</th>\n",
       "      <th>Votos</th>\n",
       "      <th>Votos (%)</th>\n",
       "      <th>candidate_name</th>\n",
       "      <th>year</th>\n",
       "      <th>gender</th>\n",
       "    </tr>\n",
       "  </thead>\n",
       "  <tbody>\n",
       "  </tbody>\n",
       "</table>\n",
       "</div>"
      ],
      "text/plain": [
       "Empty DataFrame\n",
       "Columns: [Abstention (%), Brancos, Concelho, INE_ID, Inscritos, Mandatos, Nulos, Sigla, Tipo, Votantes, Votos, Votos (%), candidate_name, year, gender]\n",
       "Index: []"
      ]
     },
     "execution_count": 260,
     "metadata": {},
     "output_type": "execute_result"
    }
   ],
   "source": [
    "elections_df.ix[elections_df.gender == u'unknown']"
   ]
  },
  {
   "cell_type": "code",
   "execution_count": null,
   "metadata": {
    "collapsed": true
   },
   "outputs": [],
   "source": []
  },
  {
   "cell_type": "code",
   "execution_count": 261,
   "metadata": {},
   "outputs": [
    {
     "data": {
      "text/plain": [
       "array([u'male', u'female'], dtype=object)"
      ]
     },
     "execution_count": 261,
     "metadata": {},
     "output_type": "execute_result"
    }
   ],
   "source": [
    "elections_df.gender.unique()"
   ]
  },
  {
   "cell_type": "code",
   "execution_count": null,
   "metadata": {
    "collapsed": true
   },
   "outputs": [],
   "source": []
  }
 ],
 "metadata": {
  "kernelspec": {
   "display_name": "Python 2",
   "language": "python",
   "name": "python2"
  },
  "language_info": {
   "codemirror_mode": {
    "name": "ipython",
    "version": 2
   },
   "file_extension": ".py",
   "mimetype": "text/x-python",
   "name": "python",
   "nbconvert_exporter": "python",
   "pygments_lexer": "ipython2",
   "version": "2.7.12"
  }
 },
 "nbformat": 4,
 "nbformat_minor": 2
}

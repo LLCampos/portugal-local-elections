{
 "cells": [
  {
   "cell_type": "code",
   "execution_count": 128,
   "metadata": {
    "collapsed": true,
    "deletable": true,
    "editable": true
   },
   "outputs": [],
   "source": [
    "import requests\n",
    "\n",
    "import pandas as pd\n",
    "from pandas import Series, DataFrame\n",
    "import numpy as np\n",
    "import matplotlib as mpl\n",
    "import matplotlib.pyplot as plt\n",
    "from scipy.stats import pearsonr"
   ]
  },
  {
   "cell_type": "markdown",
   "metadata": {
    "collapsed": false,
    "deletable": true,
    "editable": true
   },
   "source": [
    " ### Objective: obtain the names of all candidates to president of \"Câmara Municpal\" in the 2013 Portuguese Local Elections. Goint to crawl that from here http://www.eleicoes.mai.gov.pt/autarquicas2013/candidatos.html"
   ]
  },
  {
   "cell_type": "code",
   "execution_count": 129,
   "metadata": {
    "collapsed": true,
    "deletable": true,
    "editable": true
   },
   "outputs": [],
   "source": [
    "# If the default User-Agent header is used, the request is not successful.\n",
    "headers = {'User-Agent': 'Mozilla/5.0 (X11; Linux x86_64) AppleWebKit/537.36 (KHTML, like Gecko) Chrome/57.0.2987.133 Safari/537.36'}\n",
    "\n",
    "number_of_pages = 28\n",
    "url_template = 'http://www.eleicoes.mai.gov.pt/autarquicas2013/static-data/candidates/PARTIES-CANDIDATES-CM-PAGE-{}.json'"
   ]
  },
  {
   "cell_type": "code",
   "execution_count": 130,
   "metadata": {
    "collapsed": false
   },
   "outputs": [],
   "source": [
    "# Each member of the list is a dict describing the candidates for each municipilaty\n",
    "all_candidates = []\n",
    "\n",
    "for i in range(1,number_of_pages + 1):\n",
    "    result = requests.get(url_template.format(i), headers=headers)\n",
    "    \n",
    "    all_candidates += result.json()['electionCandidates']"
   ]
  },
  {
   "cell_type": "code",
   "execution_count": 157,
   "metadata": {
    "collapsed": false
   },
   "outputs": [],
   "source": [
    "result = requests.get(url_template.format(1), headers=headers)\n",
    "parties = result.json()['parties']"
   ]
  },
  {
   "cell_type": "code",
   "execution_count": 131,
   "metadata": {
    "collapsed": false
   },
   "outputs": [],
   "source": [
    "# Check if the \"alternateCandidates\" value is ever not None\n",
    "for munipality in all_candidates:\n",
    "    for candidate in munipality['candidates']:\n",
    "        if candidate['alternateCandidates'] is not None:\n",
    "            print 'There is some alternate candidate'\n",
    "            \n",
    "# Ok, it never is\n",
    "\n",
    "# Check if the there is ever more than one candidate\n",
    "for munipality in all_candidates:\n",
    "    for candidate in munipality['candidates']:\n",
    "        if len(candidate['effectiveCandidates']) != 1:\n",
    "            print 'There is more than one effective candidate'"
   ]
  },
  {
   "cell_type": "code",
   "execution_count": 163,
   "metadata": {
    "collapsed": false
   },
   "outputs": [],
   "source": [
    "def get_ine_id(territory_key):\n",
    "    number_part = territory_key.split('-')[-1]\n",
    "    return int(number_part[:-2])\n",
    "\n",
    "def correct_names_encoding_problems(name):\n",
    "    return ''.join(chr(ord(c)) for c in name).decode('utf8')\n",
    "\n",
    "# Normalize party name to be equal to the data related to election results\n",
    "def normalize_party_names(party):\n",
    "    if party == 'PCP - PEV':\n",
    "        return 'PCP-PEV'\n",
    "    if party == 'II':\n",
    "        return 'JPP'\n",
    "    return party"
   ]
  },
  {
   "cell_type": "code",
   "execution_count": 164,
   "metadata": {
    "collapsed": false
   },
   "outputs": [],
   "source": [
    "# Prepare to transform to DataFrame\n",
    "processed_candidates = []\n",
    "\n",
    "for municipality in all_candidates:\n",
    "    ine_id = get_ine_id(municipality['territoryKey'])\n",
    "    \n",
    "    for candidate in municipality['candidates']:\n",
    "        party = normalize_party_names(candidate['party'])\n",
    "        name = correct_names_encoding_problems(candidate['effectiveCandidates'][0])\n",
    "        \n",
    "        candidate_info= {'ine_id': ine_id, \n",
    "                         'party': party,\n",
    "                         'name': name}\n",
    "        \n",
    "        processed_candidates.append(candidate_info)"
   ]
  },
  {
   "cell_type": "code",
   "execution_count": 165,
   "metadata": {
    "collapsed": false
   },
   "outputs": [],
   "source": [
    "candidates_df = DataFrame(processed_candidates)\n",
    "candidates_df = candidates_df.set_index(['ine_id'])"
   ]
  },
  {
   "cell_type": "code",
   "execution_count": 172,
   "metadata": {
    "collapsed": false
   },
   "outputs": [
    {
     "data": {
      "text/html": [
       "<div>\n",
       "<table border=\"1\" class=\"dataframe\">\n",
       "  <thead>\n",
       "    <tr style=\"text-align: right;\">\n",
       "      <th></th>\n",
       "      <th>name</th>\n",
       "      <th>party</th>\n",
       "    </tr>\n",
       "    <tr>\n",
       "      <th>ine_id</th>\n",
       "      <th></th>\n",
       "      <th></th>\n",
       "    </tr>\n",
       "  </thead>\n",
       "  <tbody>\n",
       "    <tr>\n",
       "      <th>3101</th>\n",
       "      <td>Martinho Gouveia da Câmara</td>\n",
       "      <td>CDS-PP</td>\n",
       "    </tr>\n",
       "    <tr>\n",
       "      <th>3101</th>\n",
       "      <td>José Ferdinando Correia da Costa</td>\n",
       "      <td>PCP-PEV</td>\n",
       "    </tr>\n",
       "    <tr>\n",
       "      <th>3101</th>\n",
       "      <td>Carlos Manuel Figueira de Ornelas Teles</td>\n",
       "      <td>PPD/PSD</td>\n",
       "    </tr>\n",
       "    <tr>\n",
       "      <th>3101</th>\n",
       "      <td>Maria Patrícia Mendes Sumares Nobrega</td>\n",
       "      <td>PS</td>\n",
       "    </tr>\n",
       "  </tbody>\n",
       "</table>\n",
       "</div>"
      ],
      "text/plain": [
       "                                           name    party\n",
       "ine_id                                                  \n",
       "3101                 Martinho Gouveia da Câmara   CDS-PP\n",
       "3101           José Ferdinando Correia da Costa  PCP-PEV\n",
       "3101    Carlos Manuel Figueira de Ornelas Teles  PPD/PSD\n",
       "3101      Maria Patrícia Mendes Sumares Nobrega       PS"
      ]
     },
     "execution_count": 172,
     "metadata": {},
     "output_type": "execute_result"
    }
   ],
   "source": [
    "candidates_df.ix['3101']"
   ]
  },
  {
   "cell_type": "code",
   "execution_count": 166,
   "metadata": {
    "collapsed": false
   },
   "outputs": [
    {
     "name": "stdout",
     "output_type": "stream",
     "text": [
      "B.E.\n",
      "CDS-PP\n",
      "CDS-PP.MPT\n",
      "CDS-PP.MPT.PPM\n",
      "CDS-PP.PPD/PSD\n",
      "I\n",
      "III\n",
      "IV\n",
      "IX\n",
      "JPP\n",
      "MPT\n",
      "PAN\n",
      "PCP-PEV\n",
      "PCTP/MRPP\n",
      "PND\n",
      "PNR\n",
      "PPD/PSD\n",
      "PPD/PSD.CDS-PP\n",
      "PPD/PSD.CDS-PP.MPT\n",
      "PPD/PSD.CDS-PP.MPT.PPM\n",
      "PPD/PSD.CDS-PP.PPM\n",
      "PPD/PSD.CDS-PP.PPM.MPT\n",
      "PPD/PSD.MPT\n",
      "PPD/PSD.MPT.PPM\n",
      "PPD/PSD.PPM\n",
      "PPD/PSD.PPM.MPT\n",
      "PPM\n",
      "PPM-PPV\n",
      "PPM/PPV/PND\n",
      "PPV\n",
      "PS\n",
      "PS-BE-PND-MPT-PTP-PAN\n",
      "PS-PTP-PND-BE\n",
      "PTP\n",
      "V\n",
      "VI\n",
      "VII\n",
      "VIII\n",
      "X\n",
      "XI\n",
      "XII\n",
      "XIII\n",
      "XIX\n",
      "XV\n",
      "XVI\n",
      "XVII\n",
      "XVIII\n",
      "XX\n"
     ]
    }
   ],
   "source": [
    "for party in np.sort(candidates_df.party.unique()):\n",
    "    print party"
   ]
  },
  {
   "cell_type": "code",
   "execution_count": 158,
   "metadata": {
    "collapsed": false
   },
   "outputs": [
    {
     "data": {
      "text/plain": [
       "[{u'acronym': u'B.E.', u'name': u'Bloco de esquerda'},\n",
       " {u'acronym': u'CDS-PP', u'name': u'CDS-PARTIDO POPULAR'},\n",
       " {u'acronym': u'CDS-PP.MPT', u'name': u'\"POR CONST\\xc3\\x82NCIA\"'},\n",
       " {u'acronym': u'CDS-PP.MPT.PPM', u'name': u'\"Odivelas Merece Mais\"'},\n",
       " {u'acronym': u'CDS-PP.PPD/PSD', u'name': u'\"DESENVOLVER PORTEL\"'},\n",
       " {u'acronym': u'I', u'name': u'\"Amigos do Po\\xc3\\xa7o do Canto\" - APC'},\n",
       " {u'acronym': u'II', u'name': u'JPP - Juntos Pelo Povo Santa Cruz'},\n",
       " {u'acronym': u'III',\n",
       "  u'name': u'Lista Independente de Fornelo e Vair\\xc3\\xa3o (LIFV)'},\n",
       " {u'acronym': u'IV', u'name': u'MIV - Movimento Independente Vilarmourense'},\n",
       " {u'acronym': u'IX', u'name': u'S\\xc3\\x83O MARTINHO SEMPRE - SMS'},\n",
       " {u'acronym': u'MPT', u'name': u'PARTIDO DA TERRA'},\n",
       " {u'acronym': u'PAN', u'name': u'Partido pelos Animais e pela Natureza'},\n",
       " {u'acronym': u'PCP - PEV',\n",
       "  u'name': u'CDU - Coliga\\xc3\\xa7\\xc3\\xa3o Democr\\xc3\\xa1tica Unit\\xc3\\xa1ria'},\n",
       " {u'acronym': u'PCTP/MRPP',\n",
       "  u'name': u'PARTIDO COMUNISTA DOS TRABALHADORES PORTUGUESES'},\n",
       " {u'acronym': u'PND', u'name': u'NOVA DEMOCRACIA'},\n",
       " {u'acronym': u'PNR', u'name': u'PARTIDO NACIONAL RENOVADOR'},\n",
       " {u'acronym': u'PPD/PSD', u'name': u'PARTIDO SOCIAL DEMOCRATA'},\n",
       " {u'acronym': u'PPD/PSD.CDS-PP', u'name': u'GAIA NA FRENTE'},\n",
       " {u'acronym': u'PPD/PSD.CDS-PP.MPT',\n",
       "  u'name': u'&lt;&lt;SINTRA PODE MAIS&gt;&gt;'},\n",
       " {u'acronym': u'PPD/PSD.CDS-PP.MPT.PPM', u'name': u'\"MOVIMENTO POR TAVIRA\"'},\n",
       " {u'acronym': u'PPD/PSD.CDS-PP.PPM', u'name': u'\"SOMOS BARCELOS\"'},\n",
       " {u'acronym': u'PPD/PSD.CDS-PP.PPM.MPT', u'name': u'\"SOMOS FIGUEIRA\"'},\n",
       " {u'acronym': u'PPD/PSD.MPT', u'name': u'\"TODOS POR ALPIAR\\xc3\\x87A\"'},\n",
       " {u'acronym': u'PPD/PSD.MPT.PPM', u'name': u'\"LOURES SABE MUDAR\"'},\n",
       " {u'acronym': u'PPD/PSD.PPM', u'name': u'\"MANTER A ESPERAN\\xc3\\x87A\"'},\n",
       " {u'acronym': u'PPD/PSD.PPM.MPT', u'name': u'\"PORTO FORTE\"'},\n",
       " {u'acronym': u'PPM', u'name': u'PARTIDO POPULAR MON\\xc3\\x81RQUICO'},\n",
       " {u'acronym': u'PPM/PPV/PND', u'name': u'\"PLATAFORMA DE CIDADANIA LAGOS\"'},\n",
       " {u'acronym': u'PPM-PPV', u'name': u'\"ESP\\xc3\\x8dRITO DE GUIMAR\\xc3\\x83ES\"'},\n",
       " {u'acronym': u'PPV', u'name': u'PORTUGAL pro VIDA'},\n",
       " {u'acronym': u'PS', u'name': u'PARTIDO SOCIALISTA'},\n",
       " {u'acronym': u'PS-BE-PND-MPT-PTP-PAN', u'name': u'\"MUDAN\\xc3\\x87A\"'},\n",
       " {u'acronym': u'PS-PTP-PND-BE', u'name': u'\"PELA MUDAN\\xc3\\x87A\"'},\n",
       " {u'acronym': u'PTP', u'name': u'PARTIDO TRABALHISTA PORTUGU\\xc3\\x8aS'},\n",
       " {u'acronym': u'V', u'name': u'MaisEstrela'},\n",
       " {u'acronym': u'VI',\n",
       "  u'name': u'MDA XXI MOVIMENTO DEMOCR\\xc3\\x81TICO ALTERNATIVO'},\n",
       " {u'acronym': u'VII', u'name': u'LISTA  INDEPENDENTE DE PASSOS'},\n",
       " {u'acronym': u'VIII',\n",
       "  u'name': u'\\xc3\\x81gua Longa \\xc3\\x89 de Todos - ALEDT'},\n",
       " {u'acronym': u'X',\n",
       "  u'name': u'MOREIRA O LIMA E CABRA\\xc3\\x87\\xc3\\x83O UNIDOS (MCU)'},\n",
       " {u'acronym': u'XI',\n",
       "  u'name': u'UTD - Uni\\xc3\\xa3o Trabalho e Dedica\\xc3\\xa7\\xc3\\xa3o'},\n",
       " {u'acronym': u'XII', u'name': u'Unidos por Serro Ventoso - IUSV'},\n",
       " {u'acronym': u'XIII',\n",
       "  u'name': u'MAI MOVIMENTO AUT\\xc3\\x81RQUICO INDEPENDENTE'},\n",
       " {u'acronym': u'XIX', u'name': u'LISTA  INDEPENDENTE POR MEDELO'},\n",
       " {u'acronym': u'XV', u'name': u'IPM INDEPENDENTES POR MEDELO'},\n",
       " {u'acronym': u'XVI', u'name': u'5 Pelo C\\xc3\\xa2stelo'},\n",
       " {u'acronym': u'XVII', u'name': u'Um Rumo ao Futuro - RF'},\n",
       " {u'acronym': u'XVIII', u'name': u'Unidos pela Freguesia - UPF'},\n",
       " {u'acronym': u'XX',\n",
       "  u'name': u'Independentes \"Por Vilarinho de S\\xc3\\xa3o Rom\\xc3\\xa3o\"'}]"
      ]
     },
     "execution_count": 158,
     "metadata": {},
     "output_type": "execute_result"
    }
   ],
   "source": [
    "parties"
   ]
  },
  {
   "cell_type": "code",
   "execution_count": null,
   "metadata": {
    "collapsed": true
   },
   "outputs": [],
   "source": []
  }
 ],
 "metadata": {
  "kernelspec": {
   "display_name": "Python 2",
   "language": "python",
   "name": "python2"
  },
  "language_info": {
   "codemirror_mode": {
    "name": "ipython",
    "version": 2
   },
   "file_extension": ".py",
   "mimetype": "text/x-python",
   "name": "python",
   "nbconvert_exporter": "python",
   "pygments_lexer": "ipython2",
   "version": "2.7.12"
  }
 },
 "nbformat": 4,
 "nbformat_minor": 2
}

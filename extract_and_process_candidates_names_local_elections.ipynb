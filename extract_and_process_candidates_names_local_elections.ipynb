{
 "cells": [
  {
   "cell_type": "code",
   "execution_count": 19,
   "metadata": {
    "collapsed": true,
    "deletable": true,
    "editable": true
   },
   "outputs": [],
   "source": [
    "import requests\n",
    "\n",
    "import pandas as pd\n",
    "from pandas import Series, DataFrame\n",
    "import numpy as np\n",
    "import matplotlib as mpl\n",
    "import matplotlib.pyplot as plt\n",
    "from scipy.stats import pearsonr"
   ]
  },
  {
   "cell_type": "markdown",
   "metadata": {
    "collapsed": false,
    "deletable": true,
    "editable": true
   },
   "source": [
    " ### Objective: obtain the names of all candidates to president of \"Câmara Municpal\" in the 2013 Portuguese Local Elections. Goint to crawl that from here http://www.eleicoes.mai.gov.pt/autarquicas2013/candidatos.html"
   ]
  },
  {
   "cell_type": "code",
   "execution_count": 20,
   "metadata": {
    "collapsed": true,
    "deletable": true,
    "editable": true
   },
   "outputs": [],
   "source": [
    "# If the default User-Agent header is used, the request is not successful.\n",
    "headers = {'User-Agent': 'Mozilla/5.0 (X11; Linux x86_64) AppleWebKit/537.36 (KHTML, like Gecko) Chrome/57.0.2987.133 Safari/537.36'}\n",
    "\n",
    "number_of_pages = 28\n",
    "url_template = 'http://www.eleicoes.mai.gov.pt/autarquicas2013/static-data/candidates/PARTIES-CANDIDATES-CM-PAGE-{}.json'"
   ]
  },
  {
   "cell_type": "code",
   "execution_count": 21,
   "metadata": {
    "collapsed": false,
    "deletable": true,
    "editable": true
   },
   "outputs": [],
   "source": [
    "# Each member of the list is a dict describing the candidates for each municipilaty\n",
    "all_candidates = []\n",
    "\n",
    "for i in range(1,number_of_pages + 1):\n",
    "    result = requests.get(url_template.format(i), headers=headers)\n",
    "    \n",
    "    all_candidates += result.json()['electionCandidates']"
   ]
  },
  {
   "cell_type": "code",
   "execution_count": 22,
   "metadata": {
    "collapsed": false,
    "deletable": true,
    "editable": true
   },
   "outputs": [],
   "source": [
    "result = requests.get(url_template.format(1), headers=headers)\n",
    "parties = result.json()['parties']"
   ]
  },
  {
   "cell_type": "code",
   "execution_count": 23,
   "metadata": {
    "collapsed": false,
    "deletable": true,
    "editable": true
   },
   "outputs": [],
   "source": [
    "# Check if the \"alternateCandidates\" value is ever not None\n",
    "for munipality in all_candidates:\n",
    "    for candidate in munipality['candidates']:\n",
    "        if candidate['alternateCandidates'] is not None:\n",
    "            print 'There is some alternate candidate'\n",
    "            \n",
    "# Ok, it never is\n",
    "\n",
    "# Check if the there is ever more than one candidate\n",
    "for munipality in all_candidates:\n",
    "    for candidate in munipality['candidates']:\n",
    "        if len(candidate['effectiveCandidates']) != 1:\n",
    "            print 'There is more than one effective candidate'"
   ]
  },
  {
   "cell_type": "code",
   "execution_count": 24,
   "metadata": {
    "collapsed": false,
    "deletable": true,
    "editable": true
   },
   "outputs": [],
   "source": [
    "def get_ine_id(territory_key):\n",
    "    number_part = territory_key.split('-')[-1]\n",
    "    return int(number_part[:-2])\n",
    "\n",
    "def correct_names_encoding_problems(name):\n",
    "    return ''.join(chr(ord(c)) for c in name).decode('utf8')\n",
    "\n",
    "# Normalize party name to be equal to the data related to election results\n",
    "def normalize_party_names(party):\n",
    "    if party == 'PCP - PEV':\n",
    "        return 'PCP-PEV'\n",
    "    if party == 'II':\n",
    "        return 'JPP'\n",
    "    return party"
   ]
  },
  {
   "cell_type": "code",
   "execution_count": 25,
   "metadata": {
    "collapsed": false,
    "deletable": true,
    "editable": true
   },
   "outputs": [],
   "source": [
    "# Prepare to transform to DataFrame\n",
    "processed_candidates = []\n",
    "\n",
    "for municipality in all_candidates:\n",
    "    ine_id = get_ine_id(municipality['territoryKey'])\n",
    "    \n",
    "    for candidate in municipality['candidates']:\n",
    "        party = normalize_party_names(candidate['party'])\n",
    "        name = correct_names_encoding_problems(candidate['effectiveCandidates'][0])\n",
    "        \n",
    "        candidate_info= {'INE_ID': ine_id, \n",
    "                         'party': party,\n",
    "                         'name': name}\n",
    "        \n",
    "        processed_candidates.append(candidate_info)"
   ]
  },
  {
   "cell_type": "code",
   "execution_count": 26,
   "metadata": {
    "collapsed": false,
    "deletable": true,
    "editable": true
   },
   "outputs": [],
   "source": [
    "# Transform to DataFrame\n",
    "candidates_df = DataFrame(processed_candidates)\n",
    "candidates_df = candidates_df.set_index(['INE_ID'])"
   ]
  },
  {
   "cell_type": "code",
   "execution_count": 28,
   "metadata": {
    "collapsed": false,
    "deletable": true,
    "editable": true
   },
   "outputs": [],
   "source": [
    "candidates_df.to_csv('data/processed_data/local_elections_candidates_2013.csv', encoding='utf-8')"
   ]
  },
  {
   "cell_type": "code",
   "execution_count": null,
   "metadata": {
    "collapsed": true
   },
   "outputs": [],
   "source": []
  }
 ],
 "metadata": {
  "kernelspec": {
   "display_name": "Python 2",
   "language": "python",
   "name": "python2"
  },
  "language_info": {
   "codemirror_mode": {
    "name": "ipython",
    "version": 2
   },
   "file_extension": ".py",
   "mimetype": "text/x-python",
   "name": "python",
   "nbconvert_exporter": "python",
   "pygments_lexer": "ipython2",
   "version": "2.7.12"
  }
 },
 "nbformat": 4,
 "nbformat_minor": 2
}
